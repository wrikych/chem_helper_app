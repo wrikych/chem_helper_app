{
 "cells": [
  {
   "cell_type": "markdown",
   "metadata": {},
   "source": [
    "I want to create a molar mass calculator functionality as an add-on to the balancing equations part of the app. My idea is that the user shouid be able to calculate the molar mass of any value in the balanced chemical equation given one of the reactants' molar masses. Ultimately I'd also like it to be able to figure out and display the limiting reactant."
   ]
  },
  {
   "cell_type": "markdown",
   "metadata": {},
   "source": [
    "All the things I need will be from the balanced equation. So let me start with an example, and go through the problem. "
   ]
  },
  {
   "cell_type": "code",
   "execution_count": 2,
   "metadata": {},
   "outputs": [],
   "source": [
    "from helpers import *\n",
    "test_equation = 'Al + FeO --> Al2O3 + Fe'"
   ]
  },
  {
   "cell_type": "code",
   "execution_count": 1,
   "metadata": {},
   "outputs": [],
   "source": [
    "from molar_masses import periodic_table"
   ]
  },
  {
   "cell_type": "markdown",
   "metadata": {},
   "source": [
    "Let's say my given mass is for FeO is 431.04, and my given mass for Al is 161.88. "
   ]
  },
  {
   "cell_type": "code",
   "execution_count": 33,
   "metadata": {},
   "outputs": [
    {
     "name": "stdout",
     "output_type": "stream",
     "text": [
      "REACTANTS : Al, FeO\n",
      "REACTANTS : Al2O3, Fe\n",
      "\n",
      "\n",
      "O: 3.0\n",
      "Al: 2.0\n",
      "Fe: 3.0\n",
      "Al: 2.0\n",
      "Al: 2.0\n",
      "Original Equation\n",
      "[{'Al': 1}, {'Fe': 1, 'O': 1}] --> [{'Al': 2, 'O': 3}, {'Fe': 1}]\n",
      "----------------------------------\n",
      "Balanced Equation\n",
      "[{'Al': 2.0}, {'Fe': 3.0, 'O': 3.0}] --> [{'Al': 2, 'O': 3}, {'Fe': 3.0}]\n",
      "\n",
      "\n",
      "----------------------------------------------------\n",
      "Final Coefficients for Reactants - [[2.0], [3.0, 3.0]]\n",
      "Final Coefficients for Products - [[1.0, 1.0], [3.0]]\n",
      "\n",
      "\n",
      "----------------------------------------------------\n",
      "Original Equation: \n",
      "Al + FeO --> Al2O3 + Fe\n",
      "Balanced Equation: \n",
      "2Al + 3FeO --> 1Al2O3 + 3Fe\n"
     ]
    }
   ],
   "source": [
    "r_coef, reactants, p_coef, products = eq_to_eq_report(test_equation)"
   ]
  },
  {
   "cell_type": "markdown",
   "metadata": {},
   "source": [
    "First I should get a molar mass dictionary for all of them with the balanced equation"
   ]
  },
  {
   "cell_type": "code",
   "execution_count": 35,
   "metadata": {},
   "outputs": [
    {
     "data": {
      "text/plain": [
       "['Al2O3', 'Fe']"
      ]
     },
     "execution_count": 35,
     "metadata": {},
     "output_type": "execute_result"
    }
   ],
   "source": [
    "products"
   ]
  },
  {
   "cell_type": "code",
   "execution_count": 4,
   "metadata": {},
   "outputs": [
    {
     "name": "stdout",
     "output_type": "stream",
     "text": [
      "{'Al': 1}\n",
      "{'Fe': 1, 'O': 1}\n"
     ]
    }
   ],
   "source": [
    "for val in reactants:\n",
    "    print(parse_compound_formula(val))"
   ]
  },
  {
   "cell_type": "code",
   "execution_count": 42,
   "metadata": {},
   "outputs": [],
   "source": [
    "def calculate_molar_mass(comp_dict):\n",
    "    \n",
    "    molar_mass = 0\n",
    "    \n",
    "    for key in comp_dict.keys():\n",
    "        \n",
    "        multiplier = comp_dict[key]\n",
    "        \n",
    "        molar_mass += multiplier * periodic_table[key]\n",
    "    \n",
    "    return molar_mass"
   ]
  },
  {
   "cell_type": "code",
   "execution_count": 43,
   "metadata": {},
   "outputs": [],
   "source": [
    "def return_molar_mass(reactants, products):\n",
    "    \n",
    "    RMM_dict = {}\n",
    "    PMM_dict = {}\n",
    "    both_parts = [reactants, products]\n",
    "    i = 0\n",
    "    \n",
    "    for part in both_parts:\n",
    "        for val in part:\n",
    "            for_mm = parse_compound_formula(val)\n",
    "            if i == 0:\n",
    "                RMM_dict[val] = calculate_molar_mass(for_mm)\n",
    "            else:\n",
    "                PMM_dict[val] = calculate_molar_mass(for_mm)\n",
    "        i += 1\n",
    "        \n",
    "    return RMM_dict, PMM_dict\n",
    "        "
   ]
  },
  {
   "cell_type": "code",
   "execution_count": 44,
   "metadata": {},
   "outputs": [],
   "source": [
    "reacts_molar, products_molar = return_molar_mass(reactants, products)"
   ]
  },
  {
   "cell_type": "code",
   "execution_count": 47,
   "metadata": {},
   "outputs": [],
   "source": [
    "given_masses = {'Al' : 161.88,\n",
    "               'FeO' : 431.04}"
   ]
  },
  {
   "cell_type": "code",
   "execution_count": 96,
   "metadata": {},
   "outputs": [],
   "source": [
    "def determine_limiting_reactant(reacts_molar, given_masses, r_coef, reactants):\n",
    "    \n",
    "    resultant_moles = {}\n",
    "    theoretical_moles = {}\n",
    "    differential = {}\n",
    "    \n",
    "    for key in reacts_molar.keys():\n",
    "        if key in list(given_masses.keys()):\n",
    "            resultant_moles[key] = given_masses[key]/reacts_molar[key]\n",
    "    \n",
    "    for i in range(len(reactants)):\n",
    "        comp = reactants[i]\n",
    "        theoretical_moles[comp] = unique_elements_in_sublists(r_coef)[i]\n",
    "    \n",
    "    for val in resultant_moles.keys():\n",
    "        differential[val] = resultant_moles[val] // theoretical_moles[val]\n",
    "        \n",
    "    min_key = min(differential, key=lambda x: differential[x])\n",
    "    \n",
    "    return min_key, given_masses[min_key], theoretical_moles"
   ]
  },
  {
   "cell_type": "code",
   "execution_count": 97,
   "metadata": {},
   "outputs": [],
   "source": [
    "lim_react, gm, theoretical_moles = determine_limiting_reactant(reacts_molar, given_masses, r_coef, reactants"
   ]
  },
  {
   "cell_type": "code",
   "execution_count": 1,
   "metadata": {},
   "outputs": [],
   "source": [
    "def mass_to_mass(start, end, given_mass, moles, molar_masses):\n",
    "    \n",
    "    final_mass = given_mass\n",
    "    step1 = final_mass / molar_masses[start]\n",
    "    step2 = final_mass / moles[start]\n",
    "    step3 = final_mass * moles[end]\n",
    "    step4 = final_mass * molar_masses[end]\n",
    "    \n",
    "    print(f\"From {given_mass}g of {start}, we get {step1} moles of {start}.\")\n",
    "    print(f\"This results in a scale factor of {step2}, and since there are {moles[start]} moles of {start} for every {moles[end]} of {end},\")\n",
    "    print(f\"this results in a total of {step3} moles for {end}, which corresponds to {step4}g {end}.\")"
   ]
  },
  {
   "cell_type": "code",
   "execution_count": 2,
   "metadata": {},
   "outputs": [
    {
     "ename": "NameError",
     "evalue": "name 'lim_react' is not defined",
     "output_type": "error",
     "traceback": [
      "\u001b[1;31m---------------------------------------------------------------------------\u001b[0m",
      "\u001b[1;31mNameError\u001b[0m                                 Traceback (most recent call last)",
      "Cell \u001b[1;32mIn[2], line 1\u001b[0m\n\u001b[1;32m----> 1\u001b[0m \u001b[43mlim_react\u001b[49m\n",
      "\u001b[1;31mNameError\u001b[0m: name 'lim_react' is not defined"
     ]
    }
   ],
   "source": [
    "lim_react"
   ]
  },
  {
   "cell_type": "code",
   "execution_count": null,
   "metadata": {},
   "outputs": [],
   "source": []
  }
 ],
 "metadata": {
  "kernelspec": {
   "display_name": "basic_ml_stuff",
   "language": "python",
   "name": "python3"
  },
  "language_info": {
   "codemirror_mode": {
    "name": "ipython",
    "version": 3
   },
   "file_extension": ".py",
   "mimetype": "text/x-python",
   "name": "python",
   "nbconvert_exporter": "python",
   "pygments_lexer": "ipython3",
   "version": "3.11.5"
  }
 },
 "nbformat": 4,
 "nbformat_minor": 2
}
